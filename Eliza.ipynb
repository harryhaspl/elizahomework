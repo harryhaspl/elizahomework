{
 "cells": [
  {
   "cell_type": "code",
   "execution_count": 1,
   "metadata": {},
   "outputs": [],
   "source": [
    "def strip_punctuation(sentence):\n",
    "    p = \",.?!;:~\"\n",
    "    for c in p:\n",
    "        sentence = sentence.replace(c, \" \")\n",
    "    sentence = sentence.replace(\"   \", \"  \")\n",
    "    sentence = sentence.replace(\"  \", \" \")\n",
    "    return sentence"
   ]
  },
  {
   "cell_type": "code",
   "execution_count": 2,
   "metadata": {},
   "outputs": [],
   "source": [
    "strip_punctuation(\"Hi, how are you?\")"
   ]
  },
  {
   "cell_type": "code",
   "execution_count": 6,
   "metadata": {},
   "outputs": [],
   "source": [
    "def prepare_reply(answer):\n",
    "    reply = \"\"\n",
    "    words = answer.split(\" \")\n",
    "    for w in words:\n",
    "        if w in ['i', 'me']:\n",
    "            r = \"you\"\n",
    "        elif w == 'my':\n",
    "            r = \"your\"\n",
    "        elif w == 'am':\n",
    "            r = \"are\"\n",
    "        else:\n",
    "            r = w\n",
    "        reply = reply + \" \" + r\n",
    "    return \"Why do you say that\" + reply"
   ]
  },
  {
   "cell_type": "code",
   "execution_count": 7,
   "metadata": {},
   "outputs": [
    {
     "name": "stdout",
     "output_type": "stream",
     "text": [
      "> hi\n",
      "Hello\n",
      "> how are you\n",
      "I am fine\n",
      "> my teacher hates me\n",
      "Why do you say that your teacher hates you\n",
      "> because he gives me lot's of homework.\n",
      "Why do you say that because he gives you lot's of homework\n",
      "> I am so busy with studying python\n",
      "Why do you say that you are so busy with studying python\n",
      "> do you know about python?\n",
      "Why do you say that do you know about python\n",
      "> can you help me?\n",
      "Sorry, but I am just a computer program.\n",
      "> i dont know what's wrong\n",
      "Why do you say that you dont know what's wrong\n",
      "> i am feeling great\n",
      "Why do you say that you are feeling great\n",
      "> because the computer program is finished!\n",
      "Why do you say that because the computer program is finished\n",
      "> goodbye\n",
      "see you later!\n"
     ]
    }
   ],
   "source": [
    "answer = \"\"\n",
    "while answer != \"goodbye\":\n",
    "    answer = input(\"> \")\n",
    "    answer = answer.lower()\n",
    "    answer = strip_punctuation(answer).strip()\n",
    "    if answer == \"hi\":\n",
    "        print(\"Hello\")\n",
    "    elif answer == \"how are you\":\n",
    "        print(\"I am fine\")\n",
    "    elif answer == \"who are you\":\n",
    "        print(\"I am Eliza\")\n",
    "    elif answer == \"do you like cats\":\n",
    "        print(\"No, I'm a dog person.\")\n",
    "    elif answer == \"can you help me\":\n",
    "        print(\"Sorry, but I am just a computer program.\")\n",
    "    elif answer == \"goodbye\":\n",
    "        print(\"see you later!\")\n",
    "    else:\n",
    "        reply = prepare_reply(answer)\n",
    "        print(reply)"
   ]
  },
  {
   "cell_type": "code",
   "execution_count": null,
   "metadata": {},
   "outputs": [],
   "source": []
  }
 ],
 "metadata": {
  "kernelspec": {
   "display_name": "Python 3",
   "language": "python",
   "name": "python3"
  },
  "language_info": {
   "codemirror_mode": {
    "name": "ipython",
    "version": 3
   },
   "file_extension": ".py",
   "mimetype": "text/x-python",
   "name": "python",
   "nbconvert_exporter": "python",
   "pygments_lexer": "ipython3",
   "version": "3.7.6"
  }
 },
 "nbformat": 4,
 "nbformat_minor": 4
}
